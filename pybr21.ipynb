{
  "nbformat": 4,
  "nbformat_minor": 0,
  "metadata": {
    "colab": {
      "name": "pybr21.ipynb",
      "provenance": [],
      "collapsed_sections": []
    },
    "kernelspec": {
      "name": "python3",
      "display_name": "Python 3"
    },
    "language_info": {
      "name": "python"
    }
  },
  "cells": [
    {
      "cell_type": "markdown",
      "metadata": {
        "id": "YBfE5TKwwvPy"
      },
      "source": [
        "# Python Brasil 2021\n",
        "\n",
        "## Seleção de portfólios com Algoritmo Genético e Rede Neural Artificial LSTM"
      ]
    },
    {
      "cell_type": "markdown",
      "metadata": {
        "id": "VBrpv8IDwjmx"
      },
      "source": [
        "Esta primeira célula é responsável por atualizar algumas bibliotecas para que seja possível extrair os dados de cotações de ações do yahoo finance\n"
      ]
    },
    {
      "cell_type": "code",
      "metadata": {
        "id": "6V7qLQnjIfZW"
      },
      "source": [
        "! pip install --upgrade numpy\n",
        "! pip install --upgrade pandas\n",
        "! pip install --upgrade pandas-datareader\n",
        "\n",
        "# reiniciar o kernel após executar esta célula (ctrl + M)"
      ],
      "execution_count": null,
      "outputs": []
    },
    {
      "cell_type": "markdown",
      "metadata": {
        "id": "YzmKobECxVEs"
      },
      "source": [
        "É necessário montar o Google Drive, para acessar a pasta \"pybr21\" em que deverão estar os arquivos do repositório e importar os arquivos implementados para o algoritmo genético (ag_py)"
      ]
    },
    {
      "cell_type": "code",
      "metadata": {
        "id": "e-eHOXyKT0_T"
      },
      "source": [
        "from google.colab import drive\n",
        "drive.mount('/content/drive', force_remount=True)"
      ],
      "execution_count": null,
      "outputs": []
    },
    {
      "cell_type": "code",
      "metadata": {
        "id": "TXEWQMQ76KmB"
      },
      "source": [
        "import sys\n",
        "sys.path.append('/content/drive/MyDrive/pybr21')\n",
        "\n",
        "from ag_py.aux import *\n",
        "from ag_py.globais import *\n",
        "from ag_py.grafico import *\n",
        "from ag_py.classes import *\n",
        "from ag_py.metricas import *\n",
        "from nsga2 import *\n",
        "from ag_py.operadores import *\n",
        "\n",
        "import os\n",
        "os.chdir('/content/drive/MyDrive/pybr21')"
      ],
      "execution_count": 2,
      "outputs": []
    },
    {
      "cell_type": "code",
      "metadata": {
        "id": "pLJCiD3nAy_p"
      },
      "source": [
        "import math\n",
        "import pandas_datareader as web\n",
        "import numpy as np\n",
        "import pandas as pd\n",
        "from sklearn.preprocessing import MinMaxScaler\n",
        "from keras.models import Sequential\n",
        "from keras.layers import Dense, LSTM\n",
        "import matplotlib.pyplot as plt\n",
        "import datetime "
      ],
      "execution_count": 3,
      "outputs": []
    },
    {
      "cell_type": "code",
      "metadata": {
        "id": "rYP87NBOIsAj"
      },
      "source": [
        "ativos_label = [\"MGLU3.SA\", \"VALE3.SA\", \"ABEV3.SA\", \"B3SA3.SA\",\"BBSE3.SA\", \"BRML3.SA\", \"BBDC3.SA\", \"BBDC4.SA\",\"BRAP4.SA\", \"CMIG4.SA\",\"CIEL3.SA\",\"COGN3.SA\"]\n",
        "#ativos_label = [\"ABEV3.SA\", \"B3SA3.SA\",\"BBSE3.SA\", \"BRML3.SA\", \"BBDC3.SA\", \"BBDC4.SA\",\"BRAP4.SA\",\"BBAS3.SA\",\"BRKM5.SA\",\"BRFS3.SA\", \"CCRO3.SA\",\"CMIG4.SA\",\"CIEL3.SA\",\"COGN3.SA\",\"CSAN3.SA\",\"CVCB3.SA\",\"CYRE3.SA\",\"ECOR3.SA\",\"ELET3.SA\",\"ELET6.SA\",\"EMBR3.SA\",\"ENBR3.SA\",\"EGIE3.SA\",\"EQTL3.SA\",\"FLRY3.SA\",\"GGBR4.SA\",\"GOAU4.SA\",\"GOLL4.SA\",\"HYPE3.SA\",\"IGTA3.SA\",\"ITSA4.SA\",\"ITUB4.SA\",\"JBSS3.SA\",\"KLBN11.SA\",\"RENT3.SA\",\"LAME4.SA\",\"LREN3.SA\",\"MGLU3.SA\",\"MRFG3.SA\",\"MRVE3.SA\",\"MULT3.SA\",\"PETR3.SA\",\"PETR4.SA\",\"QUAL3.SA\",\"RADL3.SA\",\"SBSP3.SA\",\"SANB11.SA\",\"CSNA3.SA\",\"SULA11.SA\",\"TAEE11.SA\",\"VIVT3.SA\",\"TOTS3.SA\",\"UGPA3.SA\",\"USIM5.SA\",\"VALE3.SA\",\"WEGE3.SA\",\"YDUQ3.SA\",\"^BVSP\"]\n",
        "\n",
        "ativos_cotacoes = []\n",
        "for ativo_label in ativos_label:\n",
        "  print(\"taking \" + ativo_label + \" data\")\n",
        "  ativos_cotacoes.append(((ativo_label),(web.DataReader(ativo_label,start=\"2015-01-01\",end=\"2019-12-12\", data_source='yahoo'))))\n"
      ],
      "execution_count": null,
      "outputs": []
    },
    {
      "cell_type": "markdown",
      "metadata": {
        "id": "jSdHkr5svwhh"
      },
      "source": [
        "A célula seguinte é responsável pela utilização de um modelo de Aprendizado de Máquina para fazer a predição dos preços, diariamente, das ações. Para entender melhor como funciona, recomendo assistir o vídeo do mini curso sobre o código ([primeiro link do README.md deste repositório](https://github.com/paulacampigotto/mini-curso_ML_SEI))\n"
      ]
    },
    {
      "cell_type": "code",
      "metadata": {
        "id": "C8sW21njJGZb"
      },
      "source": [
        "taxas_de_retorno = []\n",
        "for ativo in ativos_cotacoes:\n",
        "\n",
        "  cotacoes_df = ativo[1].filter(['Close'])\n",
        "  cotacoes = cotacoes_df.values\n",
        "\n",
        "  normalizador = MinMaxScaler(feature_range=(0, 1)) \n",
        "  cotacoes_normalizadas = normalizador.fit_transform(cotacoes)\n",
        "\n",
        "  dias_treinamento = math.ceil( len(cotacoes) *.8) \n",
        "  cotacoes_treinamento = cotacoes_normalizadas[0:dias_treinamento]\n",
        "\n",
        "\n",
        "  x_treino=[]\n",
        "  y_treino = []\n",
        "  for i in range(30,len(cotacoes_treinamento)):\n",
        "      x_treino.append(cotacoes_treinamento[i-30:i,0])\n",
        "      y_treino.append(cotacoes_treinamento[i,0])\n",
        "\n",
        "\n",
        "  x_treino, y_treino = np.array(x_treino), np.array(y_treino)\n",
        "  x_treino = np.reshape(x_treino, (x_treino.shape[0],x_treino.shape[1],1))\n",
        "\n",
        "\n",
        "  model = Sequential()\n",
        "  model.add(LSTM(units=50, return_sequences=True,input_shape=(x_treino.shape[1],1)))\n",
        "  model.add(LSTM(units=50, return_sequences=False))\n",
        "  model.add(Dense(units=25))\n",
        "  model.add(Dense(units=1))\n",
        "\n",
        "  model.compile(optimizer='adam', loss='mean_squared_error')\n",
        "\n",
        "\n",
        "  model.fit(x_treino, y_treino, batch_size=1, epochs=1)\n",
        "\n",
        "\n",
        "  cotacoes_teste = cotacoes_normalizadas[dias_treinamento - 30:]\n",
        "\n",
        "  x_teste = []\n",
        "  y_teste =  cotacoes[dias_treinamento :] \n",
        "  for i in range(30,len(cotacoes_teste)):\n",
        "      x_teste.append(cotacoes_teste[i-30:i,0])\n",
        " \n",
        "  x_teste = np.array(x_teste)\n",
        "  x_teste = np.reshape(x_teste, (x_teste.shape[0],x_teste.shape[1],1))\n",
        "\n",
        "\n",
        "  predicoes = model.predict(x_teste) \n",
        "  predicoes = normalizador.inverse_transform(predicoes)\n",
        "\n",
        "\n",
        "  rmse=np.sqrt(np.mean(((predicoes- y_teste)**2)))\n",
        "  print(rmse)\n",
        "\n",
        "  treino = cotacoes_df[:dias_treinamento]\n",
        "  valido = cotacoes_df[dias_treinamento:]\n",
        "  valido['predicoes'] = predicoes\n",
        "  plt.figure(figsize=(16,8))\n",
        "  plt.title('Ativo ' + ativo[0])\n",
        "  plt.xlabel('Data')\n",
        "  plt.ylabel('Preço de fechamento (R$)')\n",
        "  plt.plot(treino['Close'], color = 'black')\n",
        "  plt.plot(valido['Close'], color = 'green')\n",
        "  plt.plot(valido['predicoes'], color = 'red')\n",
        "  plt.legend(['Histórico', 'Valor real', 'Predição'])\n",
        "  plt.savefig('graficos/' + ativo[0] + '.png')\n",
        "\n",
        "\n",
        "  if(taxas_de_retorno = []):\n",
        "    for l in range(len(valido)-1):\n",
        "      taxas_de_retorno.append([])\n",
        "\n",
        "  for j in range(len(valido)-1):\n",
        "      taxas_de_retorno[j].append((ativo[0],(valido['predicoes'][j+1]/valido['Close'][j])))\n",
        "\n",
        "\n"
      ],
      "execution_count": null,
      "outputs": []
    },
    {
      "cell_type": "markdown",
      "metadata": {
        "id": "55wOyV8gxYKQ"
      },
      "source": [
        "Por fim, salvam-se em um arquivo as 9 ações selecionadas em cada dia"
      ]
    },
    {
      "cell_type": "code",
      "metadata": {
        "id": "I90J0VNHJRyR"
      },
      "source": [
        "best = []\n",
        "\n",
        "\n",
        "for line in range(len(taxas_de_retorno)):\n",
        "  taxas_de_retorno[line].sort(key=lambda x: x[1], reverse = True)\n",
        "  best.append([])\n",
        "  for x in range(9):\n",
        "    best[line].append(taxas_de_retorno[line][x][0])\n",
        "  with open('arquivos/selected.txt', 'a+') as f:\n",
        "    f.write(str(best[line]) + '\\n')\n",
        "\n"
      ],
      "execution_count": 13,
      "outputs": []
    },
    {
      "cell_type": "markdown",
      "metadata": {
        "id": "uDecaUqixf4p"
      },
      "source": [
        "Chamada de otimização do algoritmo genético (acessa o arquivo selected.txt)"
      ]
    },
    {
      "cell_type": "code",
      "metadata": {
        "id": "H95KWVGUKdh-"
      },
      "source": [
        "otimizar_carteira()"
      ],
      "execution_count": null,
      "outputs": []
    }
  ]
}